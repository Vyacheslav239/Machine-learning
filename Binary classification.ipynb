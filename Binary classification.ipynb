{
  "nbformat": 4,
  "nbformat_minor": 0,
  "metadata": {
    "kernelspec": {
      "display_name": "Python 3",
      "language": "python",
      "name": "python3"
    },
    "language_info": {
      "codemirror_mode": {
        "name": "ipython",
        "version": 3
      },
      "file_extension": ".py",
      "mimetype": "text/x-python",
      "name": "python",
      "nbconvert_exporter": "python",
      "pygments_lexer": "ipython3",
      "version": "3.7.4"
    },
    "colab": {
      "name": "Kaggle_Sidelnik_Vyacheslav",
      "provenance": [],
      "collapsed_sections": []
    }
  },
  "cells": [
    {
      "cell_type": "markdown",
      "metadata": {
        "id": "PR43ptshF4Vb"
      },
      "source": [
        "# Соревнования на Kaggle"
      ]
    },
    {
      "cell_type": "code",
      "metadata": {
        "id": "0D9bOLAfF4Vk"
      },
      "source": [
        "import numpy as np\n",
        "import pandas as pd\n",
        "import matplotlib\n",
        "import matplotlib.pyplot as plt\n",
        "matplotlib.style.use('ggplot')\n",
        "%matplotlib inline"
      ],
      "execution_count": 1,
      "outputs": []
    },
    {
      "cell_type": "code",
      "metadata": {
        "id": "U-HZDRUnF4Vv"
      },
      "source": [
        "# Читаем наши данные\n",
        "df = pd.read_csv('train.csv', sep=',')"
      ],
      "execution_count": 3,
      "outputs": []
    },
    {
      "cell_type": "code",
      "metadata": {
        "id": "zGQnGIyqGsEi"
      },
      "source": [
        "dt = pd.read_csv('test.csv', sep=',')"
      ],
      "execution_count": 4,
      "outputs": []
    },
    {
      "cell_type": "code",
      "metadata": {
        "colab": {
          "base_uri": "https://localhost:8080/",
          "height": 357
        },
        "id": "yqbtls7NF4Vw",
        "outputId": "0db999cf-9228-4131-c20b-ad5b43e0e010"
      },
      "source": [
        "# Проверяем и смотрим на наши данные\n",
        "df.head(10)"
      ],
      "execution_count": 5,
      "outputs": [
        {
          "output_type": "execute_result",
          "data": {
            "text/html": [
              "<div>\n",
              "<style scoped>\n",
              "    .dataframe tbody tr th:only-of-type {\n",
              "        vertical-align: middle;\n",
              "    }\n",
              "\n",
              "    .dataframe tbody tr th {\n",
              "        vertical-align: top;\n",
              "    }\n",
              "\n",
              "    .dataframe thead th {\n",
              "        text-align: right;\n",
              "    }\n",
              "</style>\n",
              "<table border=\"1\" class=\"dataframe\">\n",
              "  <thead>\n",
              "    <tr style=\"text-align: right;\">\n",
              "      <th></th>\n",
              "      <th>target</th>\n",
              "      <th>feature1</th>\n",
              "      <th>feature2</th>\n",
              "      <th>feature3</th>\n",
              "      <th>feature4</th>\n",
              "      <th>feature5</th>\n",
              "      <th>feature6</th>\n",
              "      <th>feature7</th>\n",
              "      <th>feature8</th>\n",
              "      <th>feature9</th>\n",
              "      <th>feature10</th>\n",
              "      <th>feature11</th>\n",
              "      <th>feature12</th>\n",
              "      <th>feature13</th>\n",
              "    </tr>\n",
              "  </thead>\n",
              "  <tbody>\n",
              "    <tr>\n",
              "      <th>0</th>\n",
              "      <td>1</td>\n",
              "      <td>0.00</td>\n",
              "      <td>3.51</td>\n",
              "      <td>0.04</td>\n",
              "      <td>0.0</td>\n",
              "      <td>2.39</td>\n",
              "      <td>203.0</td>\n",
              "      <td>7.95</td>\n",
              "      <td>23.71</td>\n",
              "      <td>124.00</td>\n",
              "      <td>143</td>\n",
              "      <td>148</td>\n",
              "      <td>1</td>\n",
              "      <td>2</td>\n",
              "    </tr>\n",
              "    <tr>\n",
              "      <th>1</th>\n",
              "      <td>0</td>\n",
              "      <td>0.27</td>\n",
              "      <td>8.18</td>\n",
              "      <td>3.27</td>\n",
              "      <td>6.0</td>\n",
              "      <td>4.17</td>\n",
              "      <td>108.0</td>\n",
              "      <td>10.24</td>\n",
              "      <td>14.84</td>\n",
              "      <td>83.42</td>\n",
              "      <td>135</td>\n",
              "      <td>203</td>\n",
              "      <td>1</td>\n",
              "      <td>1</td>\n",
              "    </tr>\n",
              "    <tr>\n",
              "      <th>2</th>\n",
              "      <td>0</td>\n",
              "      <td>0.34</td>\n",
              "      <td>5.32</td>\n",
              "      <td>0.07</td>\n",
              "      <td>2.0</td>\n",
              "      <td>4.06</td>\n",
              "      <td>77.0</td>\n",
              "      <td>24.20</td>\n",
              "      <td>15.80</td>\n",
              "      <td>66.29</td>\n",
              "      <td>115</td>\n",
              "      <td>35</td>\n",
              "      <td>3</td>\n",
              "      <td>2</td>\n",
              "    </tr>\n",
              "    <tr>\n",
              "      <th>3</th>\n",
              "      <td>1</td>\n",
              "      <td>NaN</td>\n",
              "      <td>2.77</td>\n",
              "      <td>2.20</td>\n",
              "      <td>7.0</td>\n",
              "      <td>3.34</td>\n",
              "      <td>134.0</td>\n",
              "      <td>7.23</td>\n",
              "      <td>9.56</td>\n",
              "      <td>92.35</td>\n",
              "      <td>169</td>\n",
              "      <td>181</td>\n",
              "      <td>3</td>\n",
              "      <td>3</td>\n",
              "    </tr>\n",
              "    <tr>\n",
              "      <th>4</th>\n",
              "      <td>0</td>\n",
              "      <td>0.62</td>\n",
              "      <td>3.97</td>\n",
              "      <td>2.92</td>\n",
              "      <td>7.0</td>\n",
              "      <td>5.30</td>\n",
              "      <td>25.0</td>\n",
              "      <td>17.80</td>\n",
              "      <td>11.71</td>\n",
              "      <td>33.09</td>\n",
              "      <td>168</td>\n",
              "      <td>51</td>\n",
              "      <td>2</td>\n",
              "      <td>2</td>\n",
              "    </tr>\n",
              "    <tr>\n",
              "      <th>5</th>\n",
              "      <td>1</td>\n",
              "      <td>0.08</td>\n",
              "      <td>0.34</td>\n",
              "      <td>2.28</td>\n",
              "      <td>6.0</td>\n",
              "      <td>3.35</td>\n",
              "      <td>27.0</td>\n",
              "      <td>17.00</td>\n",
              "      <td>6.01</td>\n",
              "      <td>41.93</td>\n",
              "      <td>174</td>\n",
              "      <td>125</td>\n",
              "      <td>1</td>\n",
              "      <td>3</td>\n",
              "    </tr>\n",
              "    <tr>\n",
              "      <th>6</th>\n",
              "      <td>1</td>\n",
              "      <td>0.70</td>\n",
              "      <td>7.57</td>\n",
              "      <td>4.14</td>\n",
              "      <td>4.0</td>\n",
              "      <td>6.17</td>\n",
              "      <td>33.0</td>\n",
              "      <td>12.11</td>\n",
              "      <td>10.83</td>\n",
              "      <td>44.76</td>\n",
              "      <td>86</td>\n",
              "      <td>91</td>\n",
              "      <td>1</td>\n",
              "      <td>1</td>\n",
              "    </tr>\n",
              "    <tr>\n",
              "      <th>7</th>\n",
              "      <td>0</td>\n",
              "      <td>0.74</td>\n",
              "      <td>4.70</td>\n",
              "      <td>4.76</td>\n",
              "      <td>0.0</td>\n",
              "      <td>6.28</td>\n",
              "      <td>NaN</td>\n",
              "      <td>12.49</td>\n",
              "      <td>12.55</td>\n",
              "      <td>55.52</td>\n",
              "      <td>84</td>\n",
              "      <td>178</td>\n",
              "      <td>1</td>\n",
              "      <td>2</td>\n",
              "    </tr>\n",
              "    <tr>\n",
              "      <th>8</th>\n",
              "      <td>0</td>\n",
              "      <td>0.41</td>\n",
              "      <td>6.24</td>\n",
              "      <td>3.15</td>\n",
              "      <td>5.0</td>\n",
              "      <td>4.56</td>\n",
              "      <td>64.0</td>\n",
              "      <td>13.51</td>\n",
              "      <td>15.94</td>\n",
              "      <td>54.63</td>\n",
              "      <td>100</td>\n",
              "      <td>91</td>\n",
              "      <td>3</td>\n",
              "      <td>1</td>\n",
              "    </tr>\n",
              "    <tr>\n",
              "      <th>9</th>\n",
              "      <td>0</td>\n",
              "      <td>0.13</td>\n",
              "      <td>5.99</td>\n",
              "      <td>4.76</td>\n",
              "      <td>5.0</td>\n",
              "      <td>3.33</td>\n",
              "      <td>128.0</td>\n",
              "      <td>22.11</td>\n",
              "      <td>16.88</td>\n",
              "      <td>85.54</td>\n",
              "      <td>86</td>\n",
              "      <td>108</td>\n",
              "      <td>1</td>\n",
              "      <td>2</td>\n",
              "    </tr>\n",
              "  </tbody>\n",
              "</table>\n",
              "</div>"
            ],
            "text/plain": [
              "   target  feature1  feature2  ...  feature11  feature12  feature13\n",
              "0       1      0.00      3.51  ...        148          1          2\n",
              "1       0      0.27      8.18  ...        203          1          1\n",
              "2       0      0.34      5.32  ...         35          3          2\n",
              "3       1       NaN      2.77  ...        181          3          3\n",
              "4       0      0.62      3.97  ...         51          2          2\n",
              "5       1      0.08      0.34  ...        125          1          3\n",
              "6       1      0.70      7.57  ...         91          1          1\n",
              "7       0      0.74      4.70  ...        178          1          2\n",
              "8       0      0.41      6.24  ...         91          3          1\n",
              "9       0      0.13      5.99  ...        108          1          2\n",
              "\n",
              "[10 rows x 14 columns]"
            ]
          },
          "metadata": {},
          "execution_count": 5
        }
      ]
    },
    {
      "cell_type": "code",
      "metadata": {
        "colab": {
          "base_uri": "https://localhost:8080/"
        },
        "id": "AuD2sEysF4V1",
        "outputId": "e926540e-952c-4cb7-c66c-f7bd4c847afb"
      },
      "source": [
        "# Смотрим на размерность матрицы данных\n",
        "df.shape"
      ],
      "execution_count": 6,
      "outputs": [
        {
          "output_type": "execute_result",
          "data": {
            "text/plain": [
              "(1000, 14)"
            ]
          },
          "metadata": {},
          "execution_count": 6
        }
      ]
    },
    {
      "cell_type": "code",
      "metadata": {
        "id": "fy29yjg8CeKo",
        "colab": {
          "base_uri": "https://localhost:8080/",
          "height": 203
        },
        "outputId": "9100979b-87fd-48ab-dda1-6211e5c14774"
      },
      "source": [
        "# Смотрим на число NaN-ов в таблице\n",
        "NAs = pd.concat([df.isnull().sum()], axis=1)\n",
        "NAs[NAs.sum(axis=1) > 0]"
      ],
      "execution_count": 7,
      "outputs": [
        {
          "output_type": "execute_result",
          "data": {
            "text/html": [
              "<div>\n",
              "<style scoped>\n",
              "    .dataframe tbody tr th:only-of-type {\n",
              "        vertical-align: middle;\n",
              "    }\n",
              "\n",
              "    .dataframe tbody tr th {\n",
              "        vertical-align: top;\n",
              "    }\n",
              "\n",
              "    .dataframe thead th {\n",
              "        text-align: right;\n",
              "    }\n",
              "</style>\n",
              "<table border=\"1\" class=\"dataframe\">\n",
              "  <thead>\n",
              "    <tr style=\"text-align: right;\">\n",
              "      <th></th>\n",
              "      <th>0</th>\n",
              "    </tr>\n",
              "  </thead>\n",
              "  <tbody>\n",
              "    <tr>\n",
              "      <th>feature1</th>\n",
              "      <td>19</td>\n",
              "    </tr>\n",
              "    <tr>\n",
              "      <th>feature3</th>\n",
              "      <td>18</td>\n",
              "    </tr>\n",
              "    <tr>\n",
              "      <th>feature4</th>\n",
              "      <td>22</td>\n",
              "    </tr>\n",
              "    <tr>\n",
              "      <th>feature5</th>\n",
              "      <td>17</td>\n",
              "    </tr>\n",
              "    <tr>\n",
              "      <th>feature6</th>\n",
              "      <td>107</td>\n",
              "    </tr>\n",
              "  </tbody>\n",
              "</table>\n",
              "</div>"
            ],
            "text/plain": [
              "            0\n",
              "feature1   19\n",
              "feature3   18\n",
              "feature4   22\n",
              "feature5   17\n",
              "feature6  107"
            ]
          },
          "metadata": {},
          "execution_count": 7
        }
      ]
    },
    {
      "cell_type": "code",
      "metadata": {
        "id": "1KaojYRyU-x1"
      },
      "source": [
        "# Заменяем пропуски на среднее значение\n",
        "df.fillna(df.mean(), inplace=True)"
      ],
      "execution_count": 8,
      "outputs": []
    },
    {
      "cell_type": "code",
      "metadata": {
        "colab": {
          "base_uri": "https://localhost:8080/",
          "height": 357
        },
        "id": "Jk2SAF5RLh4r",
        "outputId": "d5eb1ee7-e98e-40b0-80e2-d1d931ddff2e"
      },
      "source": [
        "df.head(10)"
      ],
      "execution_count": 9,
      "outputs": [
        {
          "output_type": "execute_result",
          "data": {
            "text/html": [
              "<div>\n",
              "<style scoped>\n",
              "    .dataframe tbody tr th:only-of-type {\n",
              "        vertical-align: middle;\n",
              "    }\n",
              "\n",
              "    .dataframe tbody tr th {\n",
              "        vertical-align: top;\n",
              "    }\n",
              "\n",
              "    .dataframe thead th {\n",
              "        text-align: right;\n",
              "    }\n",
              "</style>\n",
              "<table border=\"1\" class=\"dataframe\">\n",
              "  <thead>\n",
              "    <tr style=\"text-align: right;\">\n",
              "      <th></th>\n",
              "      <th>target</th>\n",
              "      <th>feature1</th>\n",
              "      <th>feature2</th>\n",
              "      <th>feature3</th>\n",
              "      <th>feature4</th>\n",
              "      <th>feature5</th>\n",
              "      <th>feature6</th>\n",
              "      <th>feature7</th>\n",
              "      <th>feature8</th>\n",
              "      <th>feature9</th>\n",
              "      <th>feature10</th>\n",
              "      <th>feature11</th>\n",
              "      <th>feature12</th>\n",
              "      <th>feature13</th>\n",
              "    </tr>\n",
              "  </thead>\n",
              "  <tbody>\n",
              "    <tr>\n",
              "      <th>0</th>\n",
              "      <td>1</td>\n",
              "      <td>0.000000</td>\n",
              "      <td>3.51</td>\n",
              "      <td>0.04</td>\n",
              "      <td>0.0</td>\n",
              "      <td>2.39</td>\n",
              "      <td>203.00000</td>\n",
              "      <td>7.95</td>\n",
              "      <td>23.71</td>\n",
              "      <td>124.00</td>\n",
              "      <td>143</td>\n",
              "      <td>148</td>\n",
              "      <td>1</td>\n",
              "      <td>2</td>\n",
              "    </tr>\n",
              "    <tr>\n",
              "      <th>1</th>\n",
              "      <td>0</td>\n",
              "      <td>0.270000</td>\n",
              "      <td>8.18</td>\n",
              "      <td>3.27</td>\n",
              "      <td>6.0</td>\n",
              "      <td>4.17</td>\n",
              "      <td>108.00000</td>\n",
              "      <td>10.24</td>\n",
              "      <td>14.84</td>\n",
              "      <td>83.42</td>\n",
              "      <td>135</td>\n",
              "      <td>203</td>\n",
              "      <td>1</td>\n",
              "      <td>1</td>\n",
              "    </tr>\n",
              "    <tr>\n",
              "      <th>2</th>\n",
              "      <td>0</td>\n",
              "      <td>0.340000</td>\n",
              "      <td>5.32</td>\n",
              "      <td>0.07</td>\n",
              "      <td>2.0</td>\n",
              "      <td>4.06</td>\n",
              "      <td>77.00000</td>\n",
              "      <td>24.20</td>\n",
              "      <td>15.80</td>\n",
              "      <td>66.29</td>\n",
              "      <td>115</td>\n",
              "      <td>35</td>\n",
              "      <td>3</td>\n",
              "      <td>2</td>\n",
              "    </tr>\n",
              "    <tr>\n",
              "      <th>3</th>\n",
              "      <td>1</td>\n",
              "      <td>0.495341</td>\n",
              "      <td>2.77</td>\n",
              "      <td>2.20</td>\n",
              "      <td>7.0</td>\n",
              "      <td>3.34</td>\n",
              "      <td>134.00000</td>\n",
              "      <td>7.23</td>\n",
              "      <td>9.56</td>\n",
              "      <td>92.35</td>\n",
              "      <td>169</td>\n",
              "      <td>181</td>\n",
              "      <td>3</td>\n",
              "      <td>3</td>\n",
              "    </tr>\n",
              "    <tr>\n",
              "      <th>4</th>\n",
              "      <td>0</td>\n",
              "      <td>0.620000</td>\n",
              "      <td>3.97</td>\n",
              "      <td>2.92</td>\n",
              "      <td>7.0</td>\n",
              "      <td>5.30</td>\n",
              "      <td>25.00000</td>\n",
              "      <td>17.80</td>\n",
              "      <td>11.71</td>\n",
              "      <td>33.09</td>\n",
              "      <td>168</td>\n",
              "      <td>51</td>\n",
              "      <td>2</td>\n",
              "      <td>2</td>\n",
              "    </tr>\n",
              "    <tr>\n",
              "      <th>5</th>\n",
              "      <td>1</td>\n",
              "      <td>0.080000</td>\n",
              "      <td>0.34</td>\n",
              "      <td>2.28</td>\n",
              "      <td>6.0</td>\n",
              "      <td>3.35</td>\n",
              "      <td>27.00000</td>\n",
              "      <td>17.00</td>\n",
              "      <td>6.01</td>\n",
              "      <td>41.93</td>\n",
              "      <td>174</td>\n",
              "      <td>125</td>\n",
              "      <td>1</td>\n",
              "      <td>3</td>\n",
              "    </tr>\n",
              "    <tr>\n",
              "      <th>6</th>\n",
              "      <td>1</td>\n",
              "      <td>0.700000</td>\n",
              "      <td>7.57</td>\n",
              "      <td>4.14</td>\n",
              "      <td>4.0</td>\n",
              "      <td>6.17</td>\n",
              "      <td>33.00000</td>\n",
              "      <td>12.11</td>\n",
              "      <td>10.83</td>\n",
              "      <td>44.76</td>\n",
              "      <td>86</td>\n",
              "      <td>91</td>\n",
              "      <td>1</td>\n",
              "      <td>1</td>\n",
              "    </tr>\n",
              "    <tr>\n",
              "      <th>7</th>\n",
              "      <td>0</td>\n",
              "      <td>0.740000</td>\n",
              "      <td>4.70</td>\n",
              "      <td>4.76</td>\n",
              "      <td>0.0</td>\n",
              "      <td>6.28</td>\n",
              "      <td>111.12542</td>\n",
              "      <td>12.49</td>\n",
              "      <td>12.55</td>\n",
              "      <td>55.52</td>\n",
              "      <td>84</td>\n",
              "      <td>178</td>\n",
              "      <td>1</td>\n",
              "      <td>2</td>\n",
              "    </tr>\n",
              "    <tr>\n",
              "      <th>8</th>\n",
              "      <td>0</td>\n",
              "      <td>0.410000</td>\n",
              "      <td>6.24</td>\n",
              "      <td>3.15</td>\n",
              "      <td>5.0</td>\n",
              "      <td>4.56</td>\n",
              "      <td>64.00000</td>\n",
              "      <td>13.51</td>\n",
              "      <td>15.94</td>\n",
              "      <td>54.63</td>\n",
              "      <td>100</td>\n",
              "      <td>91</td>\n",
              "      <td>3</td>\n",
              "      <td>1</td>\n",
              "    </tr>\n",
              "    <tr>\n",
              "      <th>9</th>\n",
              "      <td>0</td>\n",
              "      <td>0.130000</td>\n",
              "      <td>5.99</td>\n",
              "      <td>4.76</td>\n",
              "      <td>5.0</td>\n",
              "      <td>3.33</td>\n",
              "      <td>128.00000</td>\n",
              "      <td>22.11</td>\n",
              "      <td>16.88</td>\n",
              "      <td>85.54</td>\n",
              "      <td>86</td>\n",
              "      <td>108</td>\n",
              "      <td>1</td>\n",
              "      <td>2</td>\n",
              "    </tr>\n",
              "  </tbody>\n",
              "</table>\n",
              "</div>"
            ],
            "text/plain": [
              "   target  feature1  feature2  ...  feature11  feature12  feature13\n",
              "0       1  0.000000      3.51  ...        148          1          2\n",
              "1       0  0.270000      8.18  ...        203          1          1\n",
              "2       0  0.340000      5.32  ...         35          3          2\n",
              "3       1  0.495341      2.77  ...        181          3          3\n",
              "4       0  0.620000      3.97  ...         51          2          2\n",
              "5       1  0.080000      0.34  ...        125          1          3\n",
              "6       1  0.700000      7.57  ...         91          1          1\n",
              "7       0  0.740000      4.70  ...        178          1          2\n",
              "8       0  0.410000      6.24  ...         91          3          1\n",
              "9       0  0.130000      5.99  ...        108          1          2\n",
              "\n",
              "[10 rows x 14 columns]"
            ]
          },
          "metadata": {},
          "execution_count": 9
        }
      ]
    },
    {
      "cell_type": "code",
      "metadata": {
        "id": "wpsUQQFPaC_X"
      },
      "source": [
        "dt.fillna(dt.mean(), inplace=True)"
      ],
      "execution_count": 10,
      "outputs": []
    },
    {
      "cell_type": "code",
      "metadata": {
        "colab": {
          "base_uri": "https://localhost:8080/",
          "height": 203
        },
        "id": "jbXfYaENGyca",
        "outputId": "7a45643e-a1b4-4767-8c07-f0caaf35b3d0"
      },
      "source": [
        "dt.head()"
      ],
      "execution_count": 11,
      "outputs": [
        {
          "output_type": "execute_result",
          "data": {
            "text/html": [
              "<div>\n",
              "<style scoped>\n",
              "    .dataframe tbody tr th:only-of-type {\n",
              "        vertical-align: middle;\n",
              "    }\n",
              "\n",
              "    .dataframe tbody tr th {\n",
              "        vertical-align: top;\n",
              "    }\n",
              "\n",
              "    .dataframe thead th {\n",
              "        text-align: right;\n",
              "    }\n",
              "</style>\n",
              "<table border=\"1\" class=\"dataframe\">\n",
              "  <thead>\n",
              "    <tr style=\"text-align: right;\">\n",
              "      <th></th>\n",
              "      <th>feature1</th>\n",
              "      <th>feature2</th>\n",
              "      <th>feature3</th>\n",
              "      <th>feature4</th>\n",
              "      <th>feature5</th>\n",
              "      <th>feature6</th>\n",
              "      <th>feature7</th>\n",
              "      <th>feature8</th>\n",
              "      <th>feature9</th>\n",
              "      <th>feature10</th>\n",
              "      <th>feature11</th>\n",
              "      <th>feature12</th>\n",
              "      <th>feature13</th>\n",
              "      <th>Id</th>\n",
              "    </tr>\n",
              "  </thead>\n",
              "  <tbody>\n",
              "    <tr>\n",
              "      <th>0</th>\n",
              "      <td>0.42</td>\n",
              "      <td>8.27</td>\n",
              "      <td>0.35</td>\n",
              "      <td>1.000000</td>\n",
              "      <td>4.57</td>\n",
              "      <td>22.0</td>\n",
              "      <td>20.74</td>\n",
              "      <td>5.25</td>\n",
              "      <td>39.23</td>\n",
              "      <td>25</td>\n",
              "      <td>39</td>\n",
              "      <td>2</td>\n",
              "      <td>1</td>\n",
              "      <td>0</td>\n",
              "    </tr>\n",
              "    <tr>\n",
              "      <th>1</th>\n",
              "      <td>0.65</td>\n",
              "      <td>4.13</td>\n",
              "      <td>2.84</td>\n",
              "      <td>6.000000</td>\n",
              "      <td>5.71</td>\n",
              "      <td>149.0</td>\n",
              "      <td>15.86</td>\n",
              "      <td>9.32</td>\n",
              "      <td>102.48</td>\n",
              "      <td>84</td>\n",
              "      <td>150</td>\n",
              "      <td>2</td>\n",
              "      <td>1</td>\n",
              "      <td>1</td>\n",
              "    </tr>\n",
              "    <tr>\n",
              "      <th>2</th>\n",
              "      <td>0.44</td>\n",
              "      <td>1.95</td>\n",
              "      <td>1.08</td>\n",
              "      <td>3.000000</td>\n",
              "      <td>4.78</td>\n",
              "      <td>95.0</td>\n",
              "      <td>14.55</td>\n",
              "      <td>19.81</td>\n",
              "      <td>74.24</td>\n",
              "      <td>206</td>\n",
              "      <td>64</td>\n",
              "      <td>1</td>\n",
              "      <td>2</td>\n",
              "      <td>2</td>\n",
              "    </tr>\n",
              "    <tr>\n",
              "      <th>3</th>\n",
              "      <td>0.71</td>\n",
              "      <td>1.31</td>\n",
              "      <td>2.51</td>\n",
              "      <td>7.000000</td>\n",
              "      <td>5.58</td>\n",
              "      <td>158.0</td>\n",
              "      <td>23.06</td>\n",
              "      <td>8.44</td>\n",
              "      <td>103.27</td>\n",
              "      <td>209</td>\n",
              "      <td>162</td>\n",
              "      <td>2</td>\n",
              "      <td>2</td>\n",
              "      <td>3</td>\n",
              "    </tr>\n",
              "    <tr>\n",
              "      <th>4</th>\n",
              "      <td>0.38</td>\n",
              "      <td>5.66</td>\n",
              "      <td>3.85</td>\n",
              "      <td>3.581466</td>\n",
              "      <td>4.73</td>\n",
              "      <td>91.0</td>\n",
              "      <td>13.90</td>\n",
              "      <td>7.74</td>\n",
              "      <td>66.64</td>\n",
              "      <td>124</td>\n",
              "      <td>44</td>\n",
              "      <td>2</td>\n",
              "      <td>3</td>\n",
              "      <td>4</td>\n",
              "    </tr>\n",
              "  </tbody>\n",
              "</table>\n",
              "</div>"
            ],
            "text/plain": [
              "   feature1  feature2  feature3  feature4  ...  feature11  feature12  feature13  Id\n",
              "0      0.42      8.27      0.35  1.000000  ...         39          2          1   0\n",
              "1      0.65      4.13      2.84  6.000000  ...        150          2          1   1\n",
              "2      0.44      1.95      1.08  3.000000  ...         64          1          2   2\n",
              "3      0.71      1.31      2.51  7.000000  ...        162          2          2   3\n",
              "4      0.38      5.66      3.85  3.581466  ...         44          2          3   4\n",
              "\n",
              "[5 rows x 14 columns]"
            ]
          },
          "metadata": {},
          "execution_count": 11
        }
      ]
    },
    {
      "cell_type": "markdown",
      "metadata": {
        "id": "iZIOsTIXJpoA"
      },
      "source": [
        "Так же рассматривался вариант, когда пропуски заменялись не на среднее значение, а на медиану. Скор от этого был немного ниже, поэтому остановился на среднем."
      ]
    },
    {
      "cell_type": "code",
      "metadata": {
        "colab": {
          "base_uri": "https://localhost:8080/"
        },
        "id": "n9xKpeAWF4V4",
        "outputId": "03c62540-9a73-4801-f050-234b131c877b"
      },
      "source": [
        "# Смотрим сбалансированы ли классы, они не сбалансированы \n",
        "df['target'].value_counts()"
      ],
      "execution_count": 12,
      "outputs": [
        {
          "output_type": "execute_result",
          "data": {
            "text/plain": [
              "0    549\n",
              "1    451\n",
              "Name: target, dtype: int64"
            ]
          },
          "metadata": {},
          "execution_count": 12
        }
      ]
    },
    {
      "cell_type": "code",
      "metadata": {
        "id": "xiVnBRnoF4WC"
      },
      "source": [
        "# Разделяю предикоторы и отклики\n",
        "Y = df['target']\n",
        "X = df.drop(columns=['target'])"
      ],
      "execution_count": 18,
      "outputs": []
    },
    {
      "cell_type": "code",
      "metadata": {
        "id": "JPONg8l33vY-"
      },
      "source": [
        "# Разбиваем наши данные на обучающую и тестовую выборку\n",
        "from sklearn.model_selection import train_test_split  \n",
        "x_train, x_test, y_train, y_test = train_test_split(X, Y, test_size=0.33, random_state = 1234)  "
      ],
      "execution_count": 19,
      "outputs": []
    },
    {
      "cell_type": "markdown",
      "metadata": {
        "id": "NLajadDhKPu_"
      },
      "source": [
        "Будем делать XGBoost, с подбором параметров с помощью GridSearch"
      ]
    },
    {
      "cell_type": "code",
      "metadata": {
        "id": "7Hzvpf2NF4WH"
      },
      "source": [
        "from xgboost import XGBClassifier\n",
        "from sklearn.model_selection import GridSearchCV"
      ],
      "execution_count": 20,
      "outputs": []
    },
    {
      "cell_type": "code",
      "metadata": {
        "id": "TuaTp2ixF4WI"
      },
      "source": [
        "# Перебираем параметры для XGboost-a, перебирались различные параметры, и в итоге остановился на таком списке параметров\n",
        "grid_param = {  \n",
        "    'n_estimators': [100, 200, 300, 400, 500, 80, 90, 150],\n",
        "    'max_features': ['sqrt', 5, 7, 9, 10],\n",
        "    'max_depth': [3, 4, 5, 6, 7, 9 ,11, 13],\n",
        "    'reg_alpha': [0, 1],\n",
        "    'reg_lambda': [0, 1]\n",
        "}"
      ],
      "execution_count": 21,
      "outputs": []
    },
    {
      "cell_type": "code",
      "metadata": {
        "id": "P3x53uAgF4WK"
      },
      "source": [
        "grid_search_res = GridSearchCV(cv=5, error_score='raise',\n",
        "       estimator=XGBClassifier(base_score=0.5, seed=1234, \n",
        "                               \n",
        "       objective='binary:logistic',                  \n",
        "       colsample_bylevel=1, colsample_bytree=0.8, subsample=0.8,\n",
        "       gamma=0, learning_rate=0.1, max_delta_step=0, \n",
        "       min_child_weight=1, missing=None, nthread=-1,\n",
        "       reg_alpha=0, reg_lambda=1, \n",
        "       scale_pos_weight=1, silent=True), n_jobs=-1,\n",
        "       param_grid=grid_param,\n",
        "       pre_dispatch='2*n_jobs', refit=True, scoring='accuracy', verbose=0)"
      ],
      "execution_count": 22,
      "outputs": []
    },
    {
      "cell_type": "code",
      "metadata": {
        "colab": {
          "base_uri": "https://localhost:8080/"
        },
        "id": "L3r4KbTlF4WM",
        "outputId": "3785207a-9249-4f2e-96af-d646b1c9962e"
      },
      "source": [
        "grid_search_res.fit(x_train, y_train)"
      ],
      "execution_count": 23,
      "outputs": [
        {
          "output_type": "execute_result",
          "data": {
            "text/plain": [
              "GridSearchCV(cv=5, error_score='raise',\n",
              "             estimator=XGBClassifier(colsample_bytree=0.8, nthread=-1,\n",
              "                                     seed=1234, silent=True, subsample=0.8),\n",
              "             n_jobs=-1,\n",
              "             param_grid={'max_depth': [3, 4, 5, 6, 7, 9, 11, 13],\n",
              "                         'max_features': ['sqrt', 5, 7, 9, 10],\n",
              "                         'n_estimators': [100, 200, 300, 400, 500, 80, 90, 150],\n",
              "                         'reg_alpha': [0, 1], 'reg_lambda': [0, 1]},\n",
              "             scoring='accuracy')"
            ]
          },
          "metadata": {},
          "execution_count": 23
        }
      ]
    },
    {
      "cell_type": "code",
      "metadata": {
        "colab": {
          "base_uri": "https://localhost:8080/"
        },
        "id": "_tnxxUY-F4WN",
        "outputId": "bc34caa3-92e3-4ea0-f9c2-7388b2e10dd4"
      },
      "source": [
        "print(\"Best params on dev set:\")\n",
        "print(grid_search_res.best_params_)"
      ],
      "execution_count": 24,
      "outputs": [
        {
          "output_type": "stream",
          "name": "stdout",
          "text": [
            "Best params on dev set:\n",
            "{'max_depth': 7, 'max_features': 'sqrt', 'n_estimators': 100, 'reg_alpha': 0, 'reg_lambda': 0}\n"
          ]
        }
      ]
    },
    {
      "cell_type": "code",
      "metadata": {
        "id": "is8CQjYAF4WP"
      },
      "source": [
        "# Cтрою предсказание модели\n",
        "y_pred_train = grid_search_res.predict(x_train)\n",
        "y_pred_test = grid_search_res.predict(x_test)"
      ],
      "execution_count": 25,
      "outputs": []
    },
    {
      "cell_type": "code",
      "metadata": {
        "colab": {
          "base_uri": "https://localhost:8080/",
          "height": 110
        },
        "id": "rRQXMNdoF4WQ",
        "outputId": "b9c2f056-ecaf-49f9-edd9-483f6cbf465f"
      },
      "source": [
        "# Смотрим на матрицу ошибок для тестовых данных\n",
        "from sklearn import metrics\n",
        "conf_mat = metrics.confusion_matrix(y_test, y_pred_test)\n",
        "conf_mat = pd.DataFrame(conf_mat, index=grid_search_res.classes_, columns=grid_search_res.classes_)\n",
        "conf_mat"
      ],
      "execution_count": 49,
      "outputs": [
        {
          "output_type": "execute_result",
          "data": {
            "text/html": [
              "<div>\n",
              "<style scoped>\n",
              "    .dataframe tbody tr th:only-of-type {\n",
              "        vertical-align: middle;\n",
              "    }\n",
              "\n",
              "    .dataframe tbody tr th {\n",
              "        vertical-align: top;\n",
              "    }\n",
              "\n",
              "    .dataframe thead th {\n",
              "        text-align: right;\n",
              "    }\n",
              "</style>\n",
              "<table border=\"1\" class=\"dataframe\">\n",
              "  <thead>\n",
              "    <tr style=\"text-align: right;\">\n",
              "      <th></th>\n",
              "      <th>0</th>\n",
              "      <th>1</th>\n",
              "    </tr>\n",
              "  </thead>\n",
              "  <tbody>\n",
              "    <tr>\n",
              "      <th>0</th>\n",
              "      <td>174</td>\n",
              "      <td>15</td>\n",
              "    </tr>\n",
              "    <tr>\n",
              "      <th>1</th>\n",
              "      <td>10</td>\n",
              "      <td>131</td>\n",
              "    </tr>\n",
              "  </tbody>\n",
              "</table>\n",
              "</div>"
            ],
            "text/plain": [
              "     0    1\n",
              "0  174   15\n",
              "1   10  131"
            ]
          },
          "metadata": {},
          "execution_count": 49
        }
      ]
    },
    {
      "cell_type": "code",
      "metadata": {
        "colab": {
          "base_uri": "https://localhost:8080/",
          "height": 110
        },
        "id": "l8lpHmkwF4WS",
        "outputId": "db1c7ad5-1117-47fd-b417-fb7d3ff011ae"
      },
      "source": [
        "# Смотрим на матрицу ошибок для тренировочных данных\n",
        "conf_mat = metrics.confusion_matrix(y_train, y_pred_train)\n",
        "conf_mat = pd.DataFrame(conf_mat, index=grid_search_res.classes_, columns=grid_search_res.classes_)\n",
        "conf_mat"
      ],
      "execution_count": 48,
      "outputs": [
        {
          "output_type": "execute_result",
          "data": {
            "text/html": [
              "<div>\n",
              "<style scoped>\n",
              "    .dataframe tbody tr th:only-of-type {\n",
              "        vertical-align: middle;\n",
              "    }\n",
              "\n",
              "    .dataframe tbody tr th {\n",
              "        vertical-align: top;\n",
              "    }\n",
              "\n",
              "    .dataframe thead th {\n",
              "        text-align: right;\n",
              "    }\n",
              "</style>\n",
              "<table border=\"1\" class=\"dataframe\">\n",
              "  <thead>\n",
              "    <tr style=\"text-align: right;\">\n",
              "      <th></th>\n",
              "      <th>0</th>\n",
              "      <th>1</th>\n",
              "    </tr>\n",
              "  </thead>\n",
              "  <tbody>\n",
              "    <tr>\n",
              "      <th>0</th>\n",
              "      <td>360</td>\n",
              "      <td>0</td>\n",
              "    </tr>\n",
              "    <tr>\n",
              "      <th>1</th>\n",
              "      <td>0</td>\n",
              "      <td>310</td>\n",
              "    </tr>\n",
              "  </tbody>\n",
              "</table>\n",
              "</div>"
            ],
            "text/plain": [
              "     0    1\n",
              "0  360    0\n",
              "1    0  310"
            ]
          },
          "metadata": {},
          "execution_count": 48
        }
      ]
    },
    {
      "cell_type": "code",
      "metadata": {
        "colab": {
          "base_uri": "https://localhost:8080/"
        },
        "id": "-VlXpphJKvEY",
        "outputId": "d05e4e6d-7588-4cca-ff7b-d314a50129f1"
      },
      "source": [
        "print(metrics.classification_report(y_pred_test, y_test))"
      ],
      "execution_count": 53,
      "outputs": [
        {
          "output_type": "stream",
          "name": "stdout",
          "text": [
            "              precision    recall  f1-score   support\n",
            "\n",
            "           0       0.92      0.95      0.93       184\n",
            "           1       0.93      0.90      0.91       146\n",
            "\n",
            "    accuracy                           0.92       330\n",
            "   macro avg       0.92      0.92      0.92       330\n",
            "weighted avg       0.92      0.92      0.92       330\n",
            "\n"
          ]
        }
      ]
    },
    {
      "cell_type": "code",
      "metadata": {
        "id": "mAS7e5BwC4Uu"
      },
      "source": [
        "# Строим предсказание для наших тестовых данных\n",
        "y_pred = grid_search_res.predict(dt.drop(columns=['Id']))"
      ],
      "execution_count": 31,
      "outputs": []
    },
    {
      "cell_type": "code",
      "metadata": {
        "colab": {
          "base_uri": "https://localhost:8080/"
        },
        "id": "YGEwzYxiDdxy",
        "outputId": "d16cee9f-52f5-4b0f-965d-9fa44a4126a4"
      },
      "source": [
        "y_pred"
      ],
      "execution_count": 32,
      "outputs": [
        {
          "output_type": "execute_result",
          "data": {
            "text/plain": [
              "array([1, 0, 0, 0, 1, 1, 0, 1, 0, 0, 0, 0, 1, 0, 0, 0, 0, 1, 0, 1, 1, 1,\n",
              "       1, 1, 1, 0, 0, 0, 0, 0, 0, 1, 1, 1, 0, 0, 1, 1, 0, 1, 0, 0, 0, 0,\n",
              "       1, 0, 1, 1, 0, 1, 0, 0, 1, 0, 0, 0, 0, 0, 0, 0, 1, 0, 1, 0, 0, 0,\n",
              "       1, 0, 0, 0, 0, 0, 1, 1, 1, 0, 0, 1, 0, 0, 0, 1, 0, 0, 0, 0, 0, 1,\n",
              "       0, 1, 0, 0, 0, 0, 1, 0, 1, 0, 1, 0, 0, 0, 1, 1, 0, 0, 1, 0, 0, 0,\n",
              "       0, 1, 0, 1, 0, 0, 1, 1, 0, 0, 1, 1, 1, 1, 1, 1, 0, 0, 0, 1, 0, 0,\n",
              "       0, 0, 1, 0, 0, 1, 1, 0, 1, 0, 0, 0, 0, 0, 1, 1, 1, 0, 0, 1, 1, 0,\n",
              "       0, 1, 1, 1, 0, 1, 0, 0, 1, 1, 1, 1, 1, 1, 0, 1, 0, 0, 1, 0, 1, 0,\n",
              "       0, 1, 1, 1, 0, 1, 0, 0, 0, 1, 0, 1, 0, 0, 0, 0, 0, 0, 1, 0, 0, 0,\n",
              "       1, 1, 1, 0, 0, 1, 0, 0, 0, 0, 0, 0, 1, 1, 0, 1, 0, 0, 1, 0, 0, 0,\n",
              "       0, 0, 1, 1, 1, 1, 0, 0, 1, 1, 0, 0, 0, 1, 0, 0, 1, 1, 1, 0, 0, 0,\n",
              "       0, 1, 1, 1, 0, 0, 1, 0, 0, 0, 0, 0, 0, 0, 0, 0, 0, 0, 0, 1, 1, 0,\n",
              "       0, 0, 0, 1, 1, 1, 0, 0, 0, 0, 0, 0, 1, 1, 0, 0, 0, 0, 1, 1, 1, 1,\n",
              "       0, 1, 1, 0, 1, 1, 1, 0, 0, 0, 0, 0, 1, 1, 0, 1, 1, 0, 0, 1, 0, 0,\n",
              "       1, 1, 0, 1, 1, 1, 0, 0, 1, 0, 1, 0, 0, 0, 0, 0, 1, 1, 1, 0, 0, 0,\n",
              "       1, 0, 1, 1, 0, 0, 0, 1, 0, 0, 1, 0, 1, 1, 1, 1, 0, 0, 0, 1, 0, 0,\n",
              "       0, 1, 1, 0, 0, 0, 0, 0, 0, 1, 1, 0, 1, 1, 1, 0, 1, 1, 1, 0, 0, 1,\n",
              "       0, 0, 0, 0, 0, 1, 1, 0, 1, 0, 0, 1, 1, 1, 0, 1, 0, 0, 1, 0, 0, 0,\n",
              "       0, 0, 0, 0, 0, 1, 1, 0, 1, 0, 1, 1, 1, 0, 0, 1, 0, 1, 0, 0, 1, 0,\n",
              "       1, 0, 0, 1, 1, 0, 1, 0, 1, 1, 1, 0, 0, 0, 1, 0, 0, 0, 1, 0, 0, 0,\n",
              "       0, 1, 1, 0, 0, 0, 0, 0, 1, 1, 0, 1, 0, 1, 0, 0, 0, 0, 1, 1, 0, 1,\n",
              "       1, 1, 0, 1, 1, 1, 1, 0, 0, 0, 0, 0, 0, 1, 0, 0, 1, 0, 1, 1, 0, 0,\n",
              "       1, 0, 0, 1, 1, 1, 1, 0, 1, 0, 1, 0, 1, 1, 0, 0, 0, 0, 0, 0, 1, 0,\n",
              "       0, 1, 1, 0, 0, 0, 0, 1, 0, 0, 0, 0, 1, 1, 1, 0, 0, 0, 0, 0, 0, 0,\n",
              "       0, 0, 1, 0, 1, 0, 0, 1, 1, 1, 1, 0, 1, 0, 1, 0, 0, 0, 1, 0, 1, 1,\n",
              "       1, 0, 1, 1, 0, 0, 1, 0, 0, 1, 1, 1, 1, 0, 0, 1, 0, 0, 1, 0, 0, 0,\n",
              "       1, 1, 0, 0, 1, 0, 1, 0, 0, 0, 1, 1, 0, 1, 0, 0, 0, 1, 0, 0, 1, 1,\n",
              "       1, 0, 0, 0, 0, 0, 0, 1, 0, 0, 1, 1, 0, 1, 0, 0, 0, 0, 1, 0, 1, 1,\n",
              "       0, 1, 1, 0, 0, 0, 1, 1, 0, 0, 0, 0, 1, 1, 0, 0, 1, 0, 1, 0, 0, 0,\n",
              "       0, 0, 1, 1, 1, 0, 0, 0, 0, 1, 0, 0, 1, 1, 0, 0, 0, 1, 1, 1, 0, 0,\n",
              "       1, 0, 1, 1, 0, 0, 0, 0, 0, 1, 1, 1, 1, 1, 1, 0, 1, 0, 0, 0, 0, 1,\n",
              "       0, 0, 0, 1, 0, 0, 0, 0, 0, 0, 0, 0, 1, 0, 1, 0, 1, 1, 0, 0, 0, 0,\n",
              "       1, 0, 0, 0, 0, 0, 0, 0, 1, 0, 1, 0, 0, 0, 1, 0, 0, 0, 0, 0, 0, 0,\n",
              "       1, 0, 1, 0, 0, 0, 1, 0, 0, 0, 0, 0, 0, 0, 0, 0, 0, 0, 1, 0, 0, 0,\n",
              "       1, 1, 0, 1, 1, 0, 0, 0, 0, 0, 1, 1, 0, 0, 1, 0, 1, 0, 0, 0, 0, 0,\n",
              "       0, 1, 1, 0, 0, 1, 0, 0, 0, 0, 0, 1, 1, 1, 1, 1, 0, 1, 1, 0, 0, 0,\n",
              "       0, 1, 0, 1, 0, 0, 0, 1, 1, 1, 1, 0, 0, 0, 1, 0, 0, 0, 0, 1, 0, 0,\n",
              "       1, 1, 1, 1, 0, 1, 0, 1, 1, 0, 0, 1, 0, 0, 0, 0, 0, 1, 0, 1, 1, 0,\n",
              "       1, 1, 1, 1, 0, 1, 0, 1, 0, 1, 0, 1, 1, 0, 0, 0, 0, 1, 1, 0, 1, 1,\n",
              "       0, 1, 0, 1, 0, 1, 1, 0, 0, 0, 0, 1, 1, 0, 0, 1, 0, 0, 0, 0, 1, 0,\n",
              "       0, 1, 0, 0, 0, 1, 0, 1, 0, 0, 1, 1, 0, 0, 0, 1, 1, 0, 0, 0, 1, 1,\n",
              "       1, 1, 1, 0, 0, 1, 0, 0, 0, 0, 0, 0, 1, 0, 0, 1, 0, 0, 1, 1, 1, 1,\n",
              "       0, 0, 1, 1, 1, 0, 1, 0, 0, 1, 0, 1, 0, 1, 1, 1, 0, 1, 1, 0, 1, 1,\n",
              "       0, 1, 1, 1, 1, 1, 0, 0, 0, 0, 1, 0, 0, 1, 1, 0, 0, 1, 0, 0, 0, 0,\n",
              "       0, 0, 0, 1, 0, 0, 1, 0, 1, 1, 1, 1, 0, 1, 1, 1, 0, 0, 0, 0, 0, 0,\n",
              "       0, 0, 1, 1, 1, 0, 1, 0, 0, 0])"
            ]
          },
          "metadata": {},
          "execution_count": 32
        }
      ]
    },
    {
      "cell_type": "markdown",
      "metadata": {
        "id": "eU6h07MiF4Wd"
      },
      "source": [
        "# Делаем калибровку\n"
      ]
    },
    {
      "cell_type": "markdown",
      "metadata": {
        "id": "qWAUmhOaIZud"
      },
      "source": [
        "Попробуем сделать еще калибровку и посмотрим, как сильно изменились наши результаты"
      ]
    },
    {
      "cell_type": "code",
      "metadata": {
        "id": "m9k7ac73F4We"
      },
      "source": [
        "from sklearn.calibration import CalibratedClassifierCV"
      ],
      "execution_count": 33,
      "outputs": []
    },
    {
      "cell_type": "code",
      "metadata": {
        "id": "4Y4IA4edF4We"
      },
      "source": [
        "model_sigmoid = CalibratedClassifierCV(grid_search_res, cv=2, method='sigmoid')"
      ],
      "execution_count": 34,
      "outputs": []
    },
    {
      "cell_type": "code",
      "metadata": {
        "colab": {
          "base_uri": "https://localhost:8080/"
        },
        "id": "4ZKFHo5LF4Wf",
        "outputId": "4d8bbffe-4207-4163-f1ae-87b7f90178d9"
      },
      "source": [
        "model_sigmoid.fit(x_train, y_train)"
      ],
      "execution_count": 35,
      "outputs": [
        {
          "output_type": "execute_result",
          "data": {
            "text/plain": [
              "CalibratedClassifierCV(base_estimator=GridSearchCV(cv=5, error_score='raise',\n",
              "                                                   estimator=XGBClassifier(colsample_bytree=0.8,\n",
              "                                                                           nthread=-1,\n",
              "                                                                           seed=1234,\n",
              "                                                                           silent=True,\n",
              "                                                                           subsample=0.8),\n",
              "                                                   n_jobs=-1,\n",
              "                                                   param_grid={'max_depth': [3,\n",
              "                                                                             4,\n",
              "                                                                             5,\n",
              "                                                                             6,\n",
              "                                                                             7,\n",
              "                                                                             9,\n",
              "                                                                             11,\n",
              "                                                                             13],\n",
              "                                                               'max_features': ['sqrt',\n",
              "                                                                                5,\n",
              "                                                                                7,\n",
              "                                                                                9,\n",
              "                                                                                10],\n",
              "                                                               'n_estimators': [100,\n",
              "                                                                                200,\n",
              "                                                                                300,\n",
              "                                                                                400,\n",
              "                                                                                500,\n",
              "                                                                                80,\n",
              "                                                                                90,\n",
              "                                                                                150],\n",
              "                                                               'reg_alpha': [0,\n",
              "                                                                             1],\n",
              "                                                               'reg_lambda': [0,\n",
              "                                                                              1]},\n",
              "                                                   scoring='accuracy'),\n",
              "                       cv=2)"
            ]
          },
          "metadata": {},
          "execution_count": 35
        }
      ]
    },
    {
      "cell_type": "code",
      "metadata": {
        "colab": {
          "base_uri": "https://localhost:8080/"
        },
        "id": "rHtb-3PDF4Wg",
        "outputId": "524201ba-0870-4c4e-a2d6-390848828635"
      },
      "source": [
        "# Делаем калибровку и смотрим на скор\n",
        "y_pred_train2 = model_sigmoid.predict(x_train)\n",
        "y_pred_test2 = model_sigmoid.predict(x_test)\n",
        "print(metrics.classification_report(y_pred_test2, y_test))"
      ],
      "execution_count": 36,
      "outputs": [
        {
          "output_type": "stream",
          "name": "stdout",
          "text": [
            "              precision    recall  f1-score   support\n",
            "\n",
            "           0       0.90      0.92      0.91       185\n",
            "           1       0.89      0.87      0.88       145\n",
            "\n",
            "    accuracy                           0.90       330\n",
            "   macro avg       0.90      0.89      0.90       330\n",
            "weighted avg       0.90      0.90      0.90       330\n",
            "\n"
          ]
        }
      ]
    },
    {
      "cell_type": "code",
      "metadata": {
        "colab": {
          "base_uri": "https://localhost:8080/",
          "height": 110
        },
        "id": "MOSNAn1SJB_f",
        "outputId": "b703930b-feea-4295-a9eb-443edd5b2a20"
      },
      "source": [
        "# Смотрим на матрицу ошибок \n",
        "conf_mat = metrics.confusion_matrix(y_test, y_pred_test2)\n",
        "conf_mat = pd.DataFrame(conf_mat, index=grid_search_res.classes_, columns=grid_search_res.classes_)\n",
        "conf_mat"
      ],
      "execution_count": 51,
      "outputs": [
        {
          "output_type": "execute_result",
          "data": {
            "text/html": [
              "<div>\n",
              "<style scoped>\n",
              "    .dataframe tbody tr th:only-of-type {\n",
              "        vertical-align: middle;\n",
              "    }\n",
              "\n",
              "    .dataframe tbody tr th {\n",
              "        vertical-align: top;\n",
              "    }\n",
              "\n",
              "    .dataframe thead th {\n",
              "        text-align: right;\n",
              "    }\n",
              "</style>\n",
              "<table border=\"1\" class=\"dataframe\">\n",
              "  <thead>\n",
              "    <tr style=\"text-align: right;\">\n",
              "      <th></th>\n",
              "      <th>0</th>\n",
              "      <th>1</th>\n",
              "    </tr>\n",
              "  </thead>\n",
              "  <tbody>\n",
              "    <tr>\n",
              "      <th>0</th>\n",
              "      <td>170</td>\n",
              "      <td>19</td>\n",
              "    </tr>\n",
              "    <tr>\n",
              "      <th>1</th>\n",
              "      <td>15</td>\n",
              "      <td>126</td>\n",
              "    </tr>\n",
              "  </tbody>\n",
              "</table>\n",
              "</div>"
            ],
            "text/plain": [
              "     0    1\n",
              "0  170   19\n",
              "1   15  126"
            ]
          },
          "metadata": {},
          "execution_count": 51
        }
      ]
    },
    {
      "cell_type": "markdown",
      "metadata": {
        "id": "ittwPUMEJJVP"
      },
      "source": [
        "Исходя из матрицы ошибок и итогового скора после калиброки, было принято решение ее не делать и ограничиться просто XGBoost - ом."
      ]
    },
    {
      "cell_type": "code",
      "metadata": {
        "id": "aYl3J-fTHRY9"
      },
      "source": [
        "ds = pd.read_csv('sample.csv', sep = ',')"
      ],
      "execution_count": 43,
      "outputs": []
    },
    {
      "cell_type": "code",
      "metadata": {
        "id": "MxlOW76RoUjd"
      },
      "source": [
        "# Строим предсказание для наших тестовых данных\n",
        "y_pred2 = model_sigmoid.predict(dt.drop(columns = ['Id']))"
      ],
      "execution_count": 44,
      "outputs": []
    },
    {
      "cell_type": "code",
      "metadata": {
        "id": "NWJYQ9u6F4Wi"
      },
      "source": [
        "# Записываем наши результаты \n",
        "pd.DataFrame({\"Id\": ds[\"Id\"], \"target\": y_pred}).to_csv(\"submission1.csv\", index=None)"
      ],
      "execution_count": 46,
      "outputs": []
    },
    {
      "cell_type": "code",
      "metadata": {
        "id": "IpaXV4-fG_Gm"
      },
      "source": [
        "# pd.DataFrame({\"Id\": ds[\"Id\"], \"target\": y_pred2}).to_csv(\"submission2.csv\", index=None)"
      ],
      "execution_count": 52,
      "outputs": []
    }
  ]
}